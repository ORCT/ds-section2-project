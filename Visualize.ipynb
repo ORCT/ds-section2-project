{
  "nbformat": 4,
  "nbformat_minor": 0,
  "metadata": {
    "colab": {
      "provenance": [],
      "authorship_tag": "ABX9TyO+RV7/nTcK4JCgFwvY3f7G",
      "include_colab_link": true
    },
    "kernelspec": {
      "name": "python3",
      "display_name": "Python 3"
    },
    "language_info": {
      "name": "python"
    }
  },
  "cells": [
    {
      "cell_type": "markdown",
      "metadata": {
        "id": "view-in-github",
        "colab_type": "text"
      },
      "source": [
        "<a href=\"https://colab.research.google.com/github/ORCT/ds-section2-project/blob/main/Visualize.ipynb\" target=\"_parent\"><img src=\"https://colab.research.google.com/assets/colab-badge.svg\" alt=\"Open In Colab\"/></a>"
      ]
    },
    {
      "cell_type": "markdown",
      "source": [
        "근데 시각화로 뭘 확인하지.....\n",
        "일단 맵 별로 모아서 각자 차량 속도나 좀 볼까?\n",
        "중복되는 놈들은 어떻게 하지....\n",
        "스캐터 플롯으로 찍으면 중복이어도 싹 모이려나?\n",
        "클러스터링해야하나...\n",
        "아무것도 모르겠다..."
      ],
      "metadata": {
        "id": "6lhA6Nxq1pIR"
      }
    }
  ]
}