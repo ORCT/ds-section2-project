{
  "nbformat": 4,
  "nbformat_minor": 0,
  "metadata": {
    "colab": {
      "provenance": [],
      "authorship_tag": "ABX9TyPE2s29CpAlK8aA4ID0OIn8",
      "include_colab_link": true
    },
    "kernelspec": {
      "name": "python3",
      "display_name": "Python 3"
    },
    "language_info": {
      "name": "python"
    }
  },
  "cells": [
    {
      "cell_type": "markdown",
      "metadata": {
        "id": "view-in-github",
        "colab_type": "text"
      },
      "source": [
        "<a href=\"https://colab.research.google.com/github/ORCT/ds-section2-project/blob/main/04.%20Modeling.ipynb\" target=\"_parent\"><img src=\"https://colab.research.google.com/assets/colab-badge.svg\" alt=\"Open In Colab\"/></a>"
      ]
    },
    {
      "cell_type": "markdown",
      "source": [
        "#### 4. 모델링\n",
        "- 사용할 특성 선택\n",
        "- 타겟 설정\n",
        "- 모델 비교 및 성능 확인\n",
        "- 최종 모델 선정\n"
      ],
      "metadata": {
        "id": "o17C8v9ufm7f"
      }
    },
    {
      "cell_type": "code",
      "source": [
        "!sudo apt-get install -y fonts-nanum\n",
        "!sudo fc-cache -fv\n",
        "!rm ~/.cache/matplotlib -rf\n",
        "!pip install category_encoders\n",
        "!pip3 install pdpbox"
      ],
      "metadata": {
        "id": "FrxeJHs7yKuI",
        "outputId": "54230da7-f9b1-415f-9b68-8d2208d4a185",
        "colab": {
          "base_uri": "https://localhost:8080/"
        }
      },
      "execution_count": 1,
      "outputs": [
        {
          "output_type": "stream",
          "name": "stdout",
          "text": [
            "Reading package lists... Done\n",
            "Building dependency tree       \n",
            "Reading state information... Done\n",
            "fonts-nanum is already the newest version (20170925-1).\n",
            "The following package was automatically installed and is no longer required:\n",
            "  libnvidia-common-460\n",
            "Use 'sudo apt autoremove' to remove it.\n",
            "0 upgraded, 0 newly installed, 0 to remove and 20 not upgraded.\n",
            "/usr/share/fonts: caching, new cache contents: 0 fonts, 1 dirs\n",
            "/usr/share/fonts/truetype: caching, new cache contents: 0 fonts, 3 dirs\n",
            "/usr/share/fonts/truetype/humor-sans: caching, new cache contents: 1 fonts, 0 dirs\n",
            "/usr/share/fonts/truetype/liberation: caching, new cache contents: 16 fonts, 0 dirs\n",
            "/usr/share/fonts/truetype/nanum: caching, new cache contents: 10 fonts, 0 dirs\n",
            "/usr/local/share/fonts: caching, new cache contents: 0 fonts, 0 dirs\n",
            "/root/.local/share/fonts: skipping, no such directory\n",
            "/root/.fonts: skipping, no such directory\n",
            "/var/cache/fontconfig: cleaning cache directory\n",
            "/root/.cache/fontconfig: not cleaning non-existent cache directory\n",
            "/root/.fontconfig: not cleaning non-existent cache directory\n",
            "fc-cache: succeeded\n",
            "Looking in indexes: https://pypi.org/simple, https://us-python.pkg.dev/colab-wheels/public/simple/\n",
            "Requirement already satisfied: category_encoders in /usr/local/lib/python3.7/dist-packages (2.5.0)\n",
            "Requirement already satisfied: pandas>=1.0.5 in /usr/local/lib/python3.7/dist-packages (from category_encoders) (1.3.5)\n",
            "Requirement already satisfied: patsy>=0.5.1 in /usr/local/lib/python3.7/dist-packages (from category_encoders) (0.5.2)\n",
            "Requirement already satisfied: statsmodels>=0.9.0 in /usr/local/lib/python3.7/dist-packages (from category_encoders) (0.12.2)\n",
            "Requirement already satisfied: scikit-learn>=0.20.0 in /usr/local/lib/python3.7/dist-packages (from category_encoders) (1.0.2)\n",
            "Requirement already satisfied: scipy>=1.0.0 in /usr/local/lib/python3.7/dist-packages (from category_encoders) (1.7.3)\n",
            "Requirement already satisfied: numpy>=1.14.0 in /usr/local/lib/python3.7/dist-packages (from category_encoders) (1.21.6)\n",
            "Requirement already satisfied: python-dateutil>=2.7.3 in /usr/local/lib/python3.7/dist-packages (from pandas>=1.0.5->category_encoders) (2.8.2)\n",
            "Requirement already satisfied: pytz>=2017.3 in /usr/local/lib/python3.7/dist-packages (from pandas>=1.0.5->category_encoders) (2022.2.1)\n",
            "Requirement already satisfied: six in /usr/local/lib/python3.7/dist-packages (from patsy>=0.5.1->category_encoders) (1.15.0)\n",
            "Requirement already satisfied: threadpoolctl>=2.0.0 in /usr/local/lib/python3.7/dist-packages (from scikit-learn>=0.20.0->category_encoders) (3.1.0)\n",
            "Requirement already satisfied: joblib>=0.11 in /usr/local/lib/python3.7/dist-packages (from scikit-learn>=0.20.0->category_encoders) (1.1.0)\n",
            "Looking in indexes: https://pypi.org/simple, https://us-python.pkg.dev/colab-wheels/public/simple/\n",
            "Requirement already satisfied: pdpbox in /usr/local/lib/python3.7/dist-packages (0.2.1)\n",
            "Requirement already satisfied: matplotlib==3.1.1 in /usr/local/lib/python3.7/dist-packages (from pdpbox) (3.1.1)\n",
            "Requirement already satisfied: sklearn in /usr/local/lib/python3.7/dist-packages (from pdpbox) (0.0)\n",
            "Requirement already satisfied: pandas in /usr/local/lib/python3.7/dist-packages (from pdpbox) (1.3.5)\n",
            "Requirement already satisfied: psutil in /usr/local/lib/python3.7/dist-packages (from pdpbox) (5.4.8)\n",
            "Requirement already satisfied: joblib in /usr/local/lib/python3.7/dist-packages (from pdpbox) (1.1.0)\n",
            "Requirement already satisfied: numpy in /usr/local/lib/python3.7/dist-packages (from pdpbox) (1.21.6)\n",
            "Requirement already satisfied: scipy in /usr/local/lib/python3.7/dist-packages (from pdpbox) (1.7.3)\n",
            "Requirement already satisfied: python-dateutil>=2.1 in /usr/local/lib/python3.7/dist-packages (from matplotlib==3.1.1->pdpbox) (2.8.2)\n",
            "Requirement already satisfied: pyparsing!=2.0.4,!=2.1.2,!=2.1.6,>=2.0.1 in /usr/local/lib/python3.7/dist-packages (from matplotlib==3.1.1->pdpbox) (3.0.9)\n",
            "Requirement already satisfied: kiwisolver>=1.0.1 in /usr/local/lib/python3.7/dist-packages (from matplotlib==3.1.1->pdpbox) (1.4.4)\n",
            "Requirement already satisfied: cycler>=0.10 in /usr/local/lib/python3.7/dist-packages (from matplotlib==3.1.1->pdpbox) (0.11.0)\n",
            "Requirement already satisfied: typing-extensions in /usr/local/lib/python3.7/dist-packages (from kiwisolver>=1.0.1->matplotlib==3.1.1->pdpbox) (4.1.1)\n",
            "Requirement already satisfied: six>=1.5 in /usr/local/lib/python3.7/dist-packages (from python-dateutil>=2.1->matplotlib==3.1.1->pdpbox) (1.15.0)\n",
            "Requirement already satisfied: pytz>=2017.3 in /usr/local/lib/python3.7/dist-packages (from pandas->pdpbox) (2022.2.1)\n",
            "Requirement already satisfied: scikit-learn in /usr/local/lib/python3.7/dist-packages (from sklearn->pdpbox) (1.0.2)\n",
            "Requirement already satisfied: threadpoolctl>=2.0.0 in /usr/local/lib/python3.7/dist-packages (from scikit-learn->sklearn->pdpbox) (3.1.0)\n"
          ]
        }
      ]
    },
    {
      "cell_type": "code",
      "source": [
        "import numpy as np\n",
        "import pandas as pd\n",
        "import seaborn as sns\n",
        "import matplotlib.pyplot as plt\n",
        "from sklearn.preprocessing import StandardScaler, PolynomialFeatures\n",
        "from sklearn.linear_model import LinearRegression, Ridge, Lasso\n",
        "from ipywidgets import interact\n",
        "from sklearn.model_selection import train_test_split\n",
        "from sklearn.metrics import mean_squared_error, mean_absolute_error, r2_score\n",
        "from sklearn.model_selection import KFold\n",
        "from sklearn.model_selection import cross_val_score\n",
        "from category_encoders import OneHotEncoder\n",
        "from sklearn.linear_model import RidgeCV, LassoCV\n",
        "from sklearn.pipeline import make_pipeline\n",
        "from sklearn.model_selection import RandomizedSearchCV\n",
        "from pdpbox.pdp import pdp_isolate, pdp_plot\n",
        "import warnings\n",
        "warnings.filterwarnings(action='ignore')\n",
        "plt.rc('font', family='NanumBarunGothic')"
      ],
      "metadata": {
        "id": "v57P0rcpBaZR"
      },
      "execution_count": 2,
      "outputs": []
    },
    {
      "cell_type": "code",
      "execution_count": 3,
      "metadata": {
        "colab": {
          "base_uri": "https://localhost:8080/",
          "height": 424
        },
        "id": "6-CDd5Nmj_ol",
        "outputId": "3b9fbd50-1313-4379-e030-749f5a42f1d4"
      },
      "outputs": [
        {
          "output_type": "execute_result",
          "data": {
            "text/plain": [
              "        Match_Id           Track      Name  Rank    Time        Kart    드리프트  \\\n",
              "0     Color맥라렌/1          차이나 라사  Color맥라렌   1.0  110.03       렉키 V1  1020.0   \n",
              "1     Color맥라렌/1          차이나 라사    KR퀵서비스   2.0  110.04  프로토 바이크 V1   940.0   \n",
              "2     Color맥라렌/1          차이나 라사    하이럼스미스   3.0  110.66  나이트 세이버 V1  1050.0   \n",
              "3     Color맥라렌/2     네모 장난감 선물공장  Color맥라렌   1.0  110.03       렉키 V1  1020.0   \n",
              "4     Color맥라렌/2     네모 장난감 선물공장    KR퀵서비스   2.0  110.04  프로토 바이크 V1   940.0   \n",
              "...          ...             ...       ...   ...     ...         ...     ...   \n",
              "9047      까이브/99  월드 이탈리아 피사의 사탑    l지존지후l   4.0   69.49       렉키 V1  1020.0   \n",
              "9048     까이브/100     월드 두바이 다운타운      YJWP   1.0   67.20       렉키 V1  1020.0   \n",
              "9049     까이브/100     월드 두바이 다운타운       뱩소현   2.0   67.25      스펙터 V1  1105.0   \n",
              "9050     까이브/100     월드 두바이 다운타운       까이브   3.0   69.02       렉키 V1  1020.0   \n",
              "9051     까이브/100     월드 두바이 다운타운    l지존지후l   4.0   69.49       렉키 V1  1020.0   \n",
              "\n",
              "         가속력     코너링   부스터시간  부스터충전량  \n",
              "0     1020.0   965.0   780.0   880.0  \n",
              "1     1000.0   885.0   780.0   880.0  \n",
              "2     1024.0   965.0   950.0   600.0  \n",
              "3     1020.0   965.0   780.0   880.0  \n",
              "4     1000.0   885.0   780.0   880.0  \n",
              "...      ...     ...     ...     ...  \n",
              "9047  1020.0   965.0   780.0   880.0  \n",
              "9048  1020.0   965.0   780.0   880.0  \n",
              "9049  1105.0  1040.0  1005.0   490.0  \n",
              "9050  1020.0   965.0   780.0   880.0  \n",
              "9051  1020.0   965.0   780.0   880.0  \n",
              "\n",
              "[9052 rows x 11 columns]"
            ],
            "text/html": [
              "\n",
              "  <div id=\"df-355624b4-4829-4c2d-a9cf-63ebb101fc97\">\n",
              "    <div class=\"colab-df-container\">\n",
              "      <div>\n",
              "<style scoped>\n",
              "    .dataframe tbody tr th:only-of-type {\n",
              "        vertical-align: middle;\n",
              "    }\n",
              "\n",
              "    .dataframe tbody tr th {\n",
              "        vertical-align: top;\n",
              "    }\n",
              "\n",
              "    .dataframe thead th {\n",
              "        text-align: right;\n",
              "    }\n",
              "</style>\n",
              "<table border=\"1\" class=\"dataframe\">\n",
              "  <thead>\n",
              "    <tr style=\"text-align: right;\">\n",
              "      <th></th>\n",
              "      <th>Match_Id</th>\n",
              "      <th>Track</th>\n",
              "      <th>Name</th>\n",
              "      <th>Rank</th>\n",
              "      <th>Time</th>\n",
              "      <th>Kart</th>\n",
              "      <th>드리프트</th>\n",
              "      <th>가속력</th>\n",
              "      <th>코너링</th>\n",
              "      <th>부스터시간</th>\n",
              "      <th>부스터충전량</th>\n",
              "    </tr>\n",
              "  </thead>\n",
              "  <tbody>\n",
              "    <tr>\n",
              "      <th>0</th>\n",
              "      <td>Color맥라렌/1</td>\n",
              "      <td>차이나 라사</td>\n",
              "      <td>Color맥라렌</td>\n",
              "      <td>1.0</td>\n",
              "      <td>110.03</td>\n",
              "      <td>렉키 V1</td>\n",
              "      <td>1020.0</td>\n",
              "      <td>1020.0</td>\n",
              "      <td>965.0</td>\n",
              "      <td>780.0</td>\n",
              "      <td>880.0</td>\n",
              "    </tr>\n",
              "    <tr>\n",
              "      <th>1</th>\n",
              "      <td>Color맥라렌/1</td>\n",
              "      <td>차이나 라사</td>\n",
              "      <td>KR퀵서비스</td>\n",
              "      <td>2.0</td>\n",
              "      <td>110.04</td>\n",
              "      <td>프로토 바이크 V1</td>\n",
              "      <td>940.0</td>\n",
              "      <td>1000.0</td>\n",
              "      <td>885.0</td>\n",
              "      <td>780.0</td>\n",
              "      <td>880.0</td>\n",
              "    </tr>\n",
              "    <tr>\n",
              "      <th>2</th>\n",
              "      <td>Color맥라렌/1</td>\n",
              "      <td>차이나 라사</td>\n",
              "      <td>하이럼스미스</td>\n",
              "      <td>3.0</td>\n",
              "      <td>110.66</td>\n",
              "      <td>나이트 세이버 V1</td>\n",
              "      <td>1050.0</td>\n",
              "      <td>1024.0</td>\n",
              "      <td>965.0</td>\n",
              "      <td>950.0</td>\n",
              "      <td>600.0</td>\n",
              "    </tr>\n",
              "    <tr>\n",
              "      <th>3</th>\n",
              "      <td>Color맥라렌/2</td>\n",
              "      <td>네모 장난감 선물공장</td>\n",
              "      <td>Color맥라렌</td>\n",
              "      <td>1.0</td>\n",
              "      <td>110.03</td>\n",
              "      <td>렉키 V1</td>\n",
              "      <td>1020.0</td>\n",
              "      <td>1020.0</td>\n",
              "      <td>965.0</td>\n",
              "      <td>780.0</td>\n",
              "      <td>880.0</td>\n",
              "    </tr>\n",
              "    <tr>\n",
              "      <th>4</th>\n",
              "      <td>Color맥라렌/2</td>\n",
              "      <td>네모 장난감 선물공장</td>\n",
              "      <td>KR퀵서비스</td>\n",
              "      <td>2.0</td>\n",
              "      <td>110.04</td>\n",
              "      <td>프로토 바이크 V1</td>\n",
              "      <td>940.0</td>\n",
              "      <td>1000.0</td>\n",
              "      <td>885.0</td>\n",
              "      <td>780.0</td>\n",
              "      <td>880.0</td>\n",
              "    </tr>\n",
              "    <tr>\n",
              "      <th>...</th>\n",
              "      <td>...</td>\n",
              "      <td>...</td>\n",
              "      <td>...</td>\n",
              "      <td>...</td>\n",
              "      <td>...</td>\n",
              "      <td>...</td>\n",
              "      <td>...</td>\n",
              "      <td>...</td>\n",
              "      <td>...</td>\n",
              "      <td>...</td>\n",
              "      <td>...</td>\n",
              "    </tr>\n",
              "    <tr>\n",
              "      <th>9047</th>\n",
              "      <td>까이브/99</td>\n",
              "      <td>월드 이탈리아 피사의 사탑</td>\n",
              "      <td>l지존지후l</td>\n",
              "      <td>4.0</td>\n",
              "      <td>69.49</td>\n",
              "      <td>렉키 V1</td>\n",
              "      <td>1020.0</td>\n",
              "      <td>1020.0</td>\n",
              "      <td>965.0</td>\n",
              "      <td>780.0</td>\n",
              "      <td>880.0</td>\n",
              "    </tr>\n",
              "    <tr>\n",
              "      <th>9048</th>\n",
              "      <td>까이브/100</td>\n",
              "      <td>월드 두바이 다운타운</td>\n",
              "      <td>YJWP</td>\n",
              "      <td>1.0</td>\n",
              "      <td>67.20</td>\n",
              "      <td>렉키 V1</td>\n",
              "      <td>1020.0</td>\n",
              "      <td>1020.0</td>\n",
              "      <td>965.0</td>\n",
              "      <td>780.0</td>\n",
              "      <td>880.0</td>\n",
              "    </tr>\n",
              "    <tr>\n",
              "      <th>9049</th>\n",
              "      <td>까이브/100</td>\n",
              "      <td>월드 두바이 다운타운</td>\n",
              "      <td>뱩소현</td>\n",
              "      <td>2.0</td>\n",
              "      <td>67.25</td>\n",
              "      <td>스펙터 V1</td>\n",
              "      <td>1105.0</td>\n",
              "      <td>1105.0</td>\n",
              "      <td>1040.0</td>\n",
              "      <td>1005.0</td>\n",
              "      <td>490.0</td>\n",
              "    </tr>\n",
              "    <tr>\n",
              "      <th>9050</th>\n",
              "      <td>까이브/100</td>\n",
              "      <td>월드 두바이 다운타운</td>\n",
              "      <td>까이브</td>\n",
              "      <td>3.0</td>\n",
              "      <td>69.02</td>\n",
              "      <td>렉키 V1</td>\n",
              "      <td>1020.0</td>\n",
              "      <td>1020.0</td>\n",
              "      <td>965.0</td>\n",
              "      <td>780.0</td>\n",
              "      <td>880.0</td>\n",
              "    </tr>\n",
              "    <tr>\n",
              "      <th>9051</th>\n",
              "      <td>까이브/100</td>\n",
              "      <td>월드 두바이 다운타운</td>\n",
              "      <td>l지존지후l</td>\n",
              "      <td>4.0</td>\n",
              "      <td>69.49</td>\n",
              "      <td>렉키 V1</td>\n",
              "      <td>1020.0</td>\n",
              "      <td>1020.0</td>\n",
              "      <td>965.0</td>\n",
              "      <td>780.0</td>\n",
              "      <td>880.0</td>\n",
              "    </tr>\n",
              "  </tbody>\n",
              "</table>\n",
              "<p>9052 rows × 11 columns</p>\n",
              "</div>\n",
              "      <button class=\"colab-df-convert\" onclick=\"convertToInteractive('df-355624b4-4829-4c2d-a9cf-63ebb101fc97')\"\n",
              "              title=\"Convert this dataframe to an interactive table.\"\n",
              "              style=\"display:none;\">\n",
              "        \n",
              "  <svg xmlns=\"http://www.w3.org/2000/svg\" height=\"24px\"viewBox=\"0 0 24 24\"\n",
              "       width=\"24px\">\n",
              "    <path d=\"M0 0h24v24H0V0z\" fill=\"none\"/>\n",
              "    <path d=\"M18.56 5.44l.94 2.06.94-2.06 2.06-.94-2.06-.94-.94-2.06-.94 2.06-2.06.94zm-11 1L8.5 8.5l.94-2.06 2.06-.94-2.06-.94L8.5 2.5l-.94 2.06-2.06.94zm10 10l.94 2.06.94-2.06 2.06-.94-2.06-.94-.94-2.06-.94 2.06-2.06.94z\"/><path d=\"M17.41 7.96l-1.37-1.37c-.4-.4-.92-.59-1.43-.59-.52 0-1.04.2-1.43.59L10.3 9.45l-7.72 7.72c-.78.78-.78 2.05 0 2.83L4 21.41c.39.39.9.59 1.41.59.51 0 1.02-.2 1.41-.59l7.78-7.78 2.81-2.81c.8-.78.8-2.07 0-2.86zM5.41 20L4 18.59l7.72-7.72 1.47 1.35L5.41 20z\"/>\n",
              "  </svg>\n",
              "      </button>\n",
              "      \n",
              "  <style>\n",
              "    .colab-df-container {\n",
              "      display:flex;\n",
              "      flex-wrap:wrap;\n",
              "      gap: 12px;\n",
              "    }\n",
              "\n",
              "    .colab-df-convert {\n",
              "      background-color: #E8F0FE;\n",
              "      border: none;\n",
              "      border-radius: 50%;\n",
              "      cursor: pointer;\n",
              "      display: none;\n",
              "      fill: #1967D2;\n",
              "      height: 32px;\n",
              "      padding: 0 0 0 0;\n",
              "      width: 32px;\n",
              "    }\n",
              "\n",
              "    .colab-df-convert:hover {\n",
              "      background-color: #E2EBFA;\n",
              "      box-shadow: 0px 1px 2px rgba(60, 64, 67, 0.3), 0px 1px 3px 1px rgba(60, 64, 67, 0.15);\n",
              "      fill: #174EA6;\n",
              "    }\n",
              "\n",
              "    [theme=dark] .colab-df-convert {\n",
              "      background-color: #3B4455;\n",
              "      fill: #D2E3FC;\n",
              "    }\n",
              "\n",
              "    [theme=dark] .colab-df-convert:hover {\n",
              "      background-color: #434B5C;\n",
              "      box-shadow: 0px 1px 3px 1px rgba(0, 0, 0, 0.15);\n",
              "      filter: drop-shadow(0px 1px 2px rgba(0, 0, 0, 0.3));\n",
              "      fill: #FFFFFF;\n",
              "    }\n",
              "  </style>\n",
              "\n",
              "      <script>\n",
              "        const buttonEl =\n",
              "          document.querySelector('#df-355624b4-4829-4c2d-a9cf-63ebb101fc97 button.colab-df-convert');\n",
              "        buttonEl.style.display =\n",
              "          google.colab.kernel.accessAllowed ? 'block' : 'none';\n",
              "\n",
              "        async function convertToInteractive(key) {\n",
              "          const element = document.querySelector('#df-355624b4-4829-4c2d-a9cf-63ebb101fc97');\n",
              "          const dataTable =\n",
              "            await google.colab.kernel.invokeFunction('convertToInteractive',\n",
              "                                                     [key], {});\n",
              "          if (!dataTable) return;\n",
              "\n",
              "          const docLinkHtml = 'Like what you see? Visit the ' +\n",
              "            '<a target=\"_blank\" href=https://colab.research.google.com/notebooks/data_table.ipynb>data table notebook</a>'\n",
              "            + ' to learn more about interactive tables.';\n",
              "          element.innerHTML = '';\n",
              "          dataTable['output_type'] = 'display_data';\n",
              "          await google.colab.output.renderOutput(dataTable, element);\n",
              "          const docLink = document.createElement('div');\n",
              "          docLink.innerHTML = docLinkHtml;\n",
              "          element.appendChild(docLink);\n",
              "        }\n",
              "      </script>\n",
              "    </div>\n",
              "  </div>\n",
              "  "
            ]
          },
          "metadata": {},
          "execution_count": 3
        }
      ],
      "source": [
        "df = pd.read_csv('main_df_fin.csv')\n",
        "df"
      ]
    },
    {
      "cell_type": "code",
      "source": [
        "df.info()"
      ],
      "metadata": {
        "id": "BfWsUbCm3Ydf",
        "outputId": "522a081e-3533-416f-c099-5c78e872e828",
        "colab": {
          "base_uri": "https://localhost:8080/"
        }
      },
      "execution_count": 4,
      "outputs": [
        {
          "output_type": "stream",
          "name": "stdout",
          "text": [
            "<class 'pandas.core.frame.DataFrame'>\n",
            "RangeIndex: 9052 entries, 0 to 9051\n",
            "Data columns (total 11 columns):\n",
            " #   Column    Non-Null Count  Dtype  \n",
            "---  ------    --------------  -----  \n",
            " 0   Match_Id  9052 non-null   object \n",
            " 1   Track     9052 non-null   object \n",
            " 2   Name      9052 non-null   object \n",
            " 3   Rank      9052 non-null   float64\n",
            " 4   Time      9052 non-null   float64\n",
            " 5   Kart      9052 non-null   object \n",
            " 6   드리프트      9052 non-null   float64\n",
            " 7   가속력       9052 non-null   float64\n",
            " 8   코너링       9052 non-null   float64\n",
            " 9   부스터시간     9052 non-null   float64\n",
            " 10  부스터충전량    9052 non-null   float64\n",
            "dtypes: float64(7), object(4)\n",
            "memory usage: 778.0+ KB\n"
          ]
        }
      ]
    },
    {
      "cell_type": "code",
      "source": [
        "df.duplicated().sum()"
      ],
      "metadata": {
        "id": "_z2lchAg3wkF",
        "outputId": "6990ce41-2620-47bd-9f0b-d7aa2837d0c7",
        "colab": {
          "base_uri": "https://localhost:8080/"
        }
      },
      "execution_count": 5,
      "outputs": [
        {
          "output_type": "execute_result",
          "data": {
            "text/plain": [
              "0"
            ]
          },
          "metadata": {},
          "execution_count": 5
        }
      ]
    },
    {
      "cell_type": "code",
      "source": [
        "df.isna().sum()[df.isna().sum() !=0]/len(df)"
      ],
      "metadata": {
        "id": "7vhAqudk341J",
        "outputId": "cae4db55-d969-4e7b-f7ce-2b7a2f68e93b",
        "colab": {
          "base_uri": "https://localhost:8080/"
        }
      },
      "execution_count": 6,
      "outputs": [
        {
          "output_type": "execute_result",
          "data": {
            "text/plain": [
              "Series([], dtype: float64)"
            ]
          },
          "metadata": {},
          "execution_count": 6
        }
      ]
    },
    {
      "cell_type": "code",
      "source": [
        "df.nunique()"
      ],
      "metadata": {
        "id": "6cCzLn5y4Asw",
        "outputId": "53e89789-dcfe-48da-8f76-54ae15f7f0e5",
        "colab": {
          "base_uri": "https://localhost:8080/"
        }
      },
      "execution_count": 7,
      "outputs": [
        {
          "output_type": "execute_result",
          "data": {
            "text/plain": [
              "Match_Id    2784\n",
              "Track         99\n",
              "Name          80\n",
              "Rank           4\n",
              "Time          89\n",
              "Kart          15\n",
              "드리프트           8\n",
              "가속력            5\n",
              "코너링           10\n",
              "부스터시간          7\n",
              "부스터충전량        11\n",
              "dtype: int64"
            ]
          },
          "metadata": {},
          "execution_count": 7
        }
      ]
    },
    {
      "cell_type": "code",
      "source": [
        "sns.histplot(df.Time)"
      ],
      "metadata": {
        "id": "JoixxNYi4Ibb",
        "outputId": "de0a9d35-d55f-415a-e8f9-3f77836adbba",
        "colab": {
          "base_uri": "https://localhost:8080/",
          "height": 298
        }
      },
      "execution_count": 8,
      "outputs": [
        {
          "output_type": "execute_result",
          "data": {
            "text/plain": [
              "<matplotlib.axes._subplots.AxesSubplot at 0x7fa459238910>"
            ]
          },
          "metadata": {},
          "execution_count": 8
        },
        {
          "output_type": "display_data",
          "data": {
            "text/plain": [
              "<Figure size 432x288 with 1 Axes>"
            ],
            "image/png": "[encoded data removed]"
          },
          "metadata": {
            "needs_background": "light"
          }
        }
      ]
    },
    {
      "cell_type": "code",
      "source": [
        "df.corr()['Time'].sort_values(ascending=False)"
      ],
      "metadata": {
        "id": "U8m3QItw4na0",
        "outputId": "370dd1db-dc27-4172-e8c6-4600b176a805",
        "colab": {
          "base_uri": "https://localhost:8080/"
        }
      },
      "execution_count": 9,
      "outputs": [
        {
          "output_type": "execute_result",
          "data": {
            "text/plain": [
              "Time      1.000000\n",
              "Rank      0.132766\n",
              "부스터시간     0.054923\n",
              "가속력      -0.055326\n",
              "드리프트     -0.093682\n",
              "부스터충전량   -0.098321\n",
              "코너링      -0.161547\n",
              "Name: Time, dtype: float64"
            ]
          },
          "metadata": {},
          "execution_count": 9
        }
      ]
    },
    {
      "cell_type": "code",
      "source": [
        "df.drop(['Match_Id'], axis=1, inplace=True)\n",
        "df.info()"
      ],
      "metadata": {
        "id": "3X3KsOsU_BOr",
        "outputId": "2058c4a9-008e-448a-ea05-49ee5af4cc55",
        "colab": {
          "base_uri": "https://localhost:8080/"
        }
      },
      "execution_count": 10,
      "outputs": [
        {
          "output_type": "stream",
          "name": "stdout",
          "text": [
            "<class 'pandas.core.frame.DataFrame'>\n",
            "RangeIndex: 9052 entries, 0 to 9051\n",
            "Data columns (total 10 columns):\n",
            " #   Column  Non-Null Count  Dtype  \n",
            "---  ------  --------------  -----  \n",
            " 0   Track   9052 non-null   object \n",
            " 1   Name    9052 non-null   object \n",
            " 2   Rank    9052 non-null   float64\n",
            " 3   Time    9052 non-null   float64\n",
            " 4   Kart    9052 non-null   object \n",
            " 5   드리프트    9052 non-null   float64\n",
            " 6   가속력     9052 non-null   float64\n",
            " 7   코너링     9052 non-null   float64\n",
            " 8   부스터시간   9052 non-null   float64\n",
            " 9   부스터충전량  9052 non-null   float64\n",
            "dtypes: float64(7), object(3)\n",
            "memory usage: 707.3+ KB\n"
          ]
        }
      ]
    },
    {
      "cell_type": "code",
      "source": [
        "train, test = train_test_split(df, test_size=0.2, random_state=42)\n",
        "\n",
        "def xy_split(df):\n",
        "  target = 'Time'\n",
        "  X = df.iloc[:,5:]\n",
        "  # X = df.drop(target, axis=1)\n",
        "  y = df[target]\n",
        "  return X, y\n",
        "\n",
        "X_train, y_train = xy_split(train)\n",
        "X_test, y_test = xy_split(test)"
      ],
      "metadata": {
        "id": "4_xiKEEW_TEZ"
      },
      "execution_count": 11,
      "outputs": []
    },
    {
      "cell_type": "code",
      "source": [
        "X_train.shape, X_test.shape, y_train.shape, y_test.shape"
      ],
      "metadata": {
        "id": "JlYaLsC_AE4f",
        "outputId": "1731ed40-76cd-47be-ca59-dbae0fd97ce5",
        "colab": {
          "base_uri": "https://localhost:8080/"
        }
      },
      "execution_count": 12,
      "outputs": [
        {
          "output_type": "execute_result",
          "data": {
            "text/plain": [
              "((7241, 5), (1811, 5), (7241,), (1811,))"
            ]
          },
          "metadata": {},
          "execution_count": 12
        }
      ]
    },
    {
      "cell_type": "code",
      "source": [
        "baseline = [y_train.mean()] * len(y_train)\n",
        "\n",
        "linear = make_pipeline(\n",
        "    OneHotEncoder(),\n",
        "    StandardScaler(),\n",
        "    LinearRegression(),\n",
        ")\n",
        "\n",
        "linear.fit(X_train, y_train)\n",
        "\n",
        "ridge = make_pipeline(\n",
        "    OneHotEncoder(),\n",
        "    StandardScaler(),\n",
        "    Ridge(\n",
        "        # alpha=0.01\n",
        "    )\n",
        ")\n",
        "\n",
        "ridge_clf = RandomizedSearchCV(\n",
        "    ridge,\n",
        "    param_distributions = {'ridge__alpha' : [0.002, 0.004, 0.006, 0.008, 0.01]},\n",
        "    # param_distributions = {'ridge__alpha' : range(1,100,10)},\n",
        "    n_iter=5,\n",
        "    cv=3,\n",
        "    scoring='r2',\n",
        "    # scoring='neg_root_mean_squared_error',\n",
        "    n_jobs=-1,\n",
        "    random_state=42\n",
        ")\n",
        "\n",
        "ridge_clf.fit(X_train, y_train)\n",
        "print(\"Optimal Hyperparameter:\", ridge_clf.best_params_)\n",
        "print(\"R2:\", ridge_clf.best_score_)\n",
        "\n",
        "lasso = make_pipeline(\n",
        "    OneHotEncoder(),\n",
        "    StandardScaler(),\n",
        "    Lasso(\n",
        "        # alpha=0.01\n",
        "    )\n",
        ")\n",
        "\n",
        "lasso_clf = RandomizedSearchCV(\n",
        "    lasso,\n",
        "    param_distributions = {'lasso__alpha' : [0.002, 0.004, 0.006, 0.008, 0.01]},\n",
        "    # param_distributions = {'lasso__alpha' : range(1,100,10)},\n",
        "    n_iter=5,\n",
        "    cv=3,\n",
        "    scoring='r2',\n",
        "    # scoring='neg_root_mean_squared_error',\n",
        "    n_jobs=-1,\n",
        "    random_state=42\n",
        ")\n",
        "\n",
        "lasso_clf.fit(X_train, y_train)\n",
        "print(\"Optimal Hyperparameter:\", lasso_clf.best_params_)\n",
        "print(\"R2:\", lasso_clf.best_score_)"
      ],
      "metadata": {
        "id": "KDpVpXFlqnRW",
        "outputId": "54a29df2-9aa4-4a1f-f2b0-67279d664049",
        "colab": {
          "base_uri": "https://localhost:8080/"
        }
      },
      "execution_count": 13,
      "outputs": [
        {
          "output_type": "stream",
          "name": "stdout",
          "text": [
            "Warning: No categorical columns found. Calling 'transform' will only return input data.\n",
            "Warning: No categorical columns found. Calling 'transform' will only return input data.\n",
            "Optimal Hyperparameter: {'ridge__alpha': 0.01}\n",
            "R2: 0.07115896397312586\n",
            "Warning: No categorical columns found. Calling 'transform' will only return input data.\n",
            "Optimal Hyperparameter: {'lasso__alpha': 0.002}\n",
            "R2: 0.07115789276314229\n"
          ]
        }
      ]
    },
    {
      "cell_type": "code",
      "source": [
        "def eval_models(y, y_pred) :\n",
        "    mse = mean_squared_error(y, y_pred)\n",
        "    rmse = np.sqrt(mse)\n",
        "    mae = mean_absolute_error(y, y_pred)\n",
        "    r2 = r2_score(y, y_pred)\n",
        "\n",
        "    return mse, rmse, mae, r2"
      ],
      "metadata": {
        "id": "T7Mh_QNj4ATW"
      },
      "execution_count": 14,
      "outputs": []
    },
    {
      "cell_type": "code",
      "source": [
        "base_mse, base_rmse, base_mae, base_r2 = eval_models(y_test, [y_test.mean()] * len(y_test))\n",
        "linear_mse, linear_rmse, linear_mae, linear_r2 = eval_models(y_test, linear.predict(X_test))\n",
        "ridge_mse, ridge_rmse, ridge_mae, ridge_r2 = eval_models(y_test, ridge_clf.predict(X_test))\n",
        "lasso_mse, lasso_rmse, lasso_mae, lasso_r2 = eval_models(y_test, lasso_clf.predict(X_test))"
      ],
      "metadata": {
        "id": "0qKGAbwf4OD8"
      },
      "execution_count": 15,
      "outputs": []
    },
    {
      "cell_type": "code",
      "source": [
        "comparison_metrics = pd.DataFrame(index=['mse', 'rmse', 'mae', 'r2'], columns=['Base','Linear', 'Ridge', 'Lasso'])\n",
        "comparison_metrics['Base'] = [base_mse, base_rmse, base_mae, base_r2 ]\n",
        "comparison_metrics['Linear'] = [linear_mse, linear_rmse, linear_mae, linear_r2]\n",
        "comparison_metrics['Ridge'] = [ridge_mse, ridge_rmse, ridge_mae, ridge_r2]\n",
        "comparison_metrics['Lasso'] = [lasso_mse, lasso_rmse, lasso_mae, lasso_r2]\n",
        "comparison_metrics"
      ],
      "metadata": {
        "id": "4ID-AGX85YZH",
        "outputId": "818b0ccd-7c07-494b-c7a9-e3e1adfaeeb2",
        "colab": {
          "base_uri": "https://localhost:8080/",
          "height": 175
        }
      },
      "execution_count": 16,
      "outputs": [
        {
          "output_type": "execute_result",
          "data": {
            "text/plain": [
              "            Base      Linear       Ridge       Lasso\n",
              "mse   434.410327  405.169591  405.169505  405.158437\n",
              "rmse   20.842513   20.128825   20.128823   20.128548\n",
              "mae    17.869706   16.821222   16.821216   16.819594\n",
              "r2      0.000000    0.067311    0.067312    0.067337"
            ],
            "text/html": [
              "\n",
              "  <div id=\"df-9aebc934-5701-409a-b219-0671bcc6e20d\">\n",
              "    <div class=\"colab-df-container\">\n",
              "      <div>\n",
              "<style scoped>\n",
              "    .dataframe tbody tr th:only-of-type {\n",
              "        vertical-align: middle;\n",
              "    }\n",
              "\n",
              "    .dataframe tbody tr th {\n",
              "        vertical-align: top;\n",
              "    }\n",
              "\n",
              "    .dataframe thead th {\n",
              "        text-align: right;\n",
              "    }\n",
              "</style>\n",
              "<table border=\"1\" class=\"dataframe\">\n",
              "  <thead>\n",
              "    <tr style=\"text-align: right;\">\n",
              "      <th></th>\n",
              "      <th>Base</th>\n",
              "      <th>Linear</th>\n",
              "      <th>Ridge</th>\n",
              "      <th>Lasso</th>\n",
              "    </tr>\n",
              "  </thead>\n",
              "  <tbody>\n",
              "    <tr>\n",
              "      <th>mse</th>\n",
              "      <td>434.410327</td>\n",
              "      <td>405.169591</td>\n",
              "      <td>405.169505</td>\n",
              "      <td>405.158437</td>\n",
              "    </tr>\n",
              "    <tr>\n",
              "      <th>rmse</th>\n",
              "      <td>20.842513</td>\n",
              "      <td>20.128825</td>\n",
              "      <td>20.128823</td>\n",
              "      <td>20.128548</td>\n",
              "    </tr>\n",
              "    <tr>\n",
              "      <th>mae</th>\n",
              "      <td>17.869706</td>\n",
              "      <td>16.821222</td>\n",
              "      <td>16.821216</td>\n",
              "      <td>16.819594</td>\n",
              "    </tr>\n",
              "    <tr>\n",
              "      <th>r2</th>\n",
              "      <td>0.000000</td>\n",
              "      <td>0.067311</td>\n",
              "      <td>0.067312</td>\n",
              "      <td>0.067337</td>\n",
              "    </tr>\n",
              "  </tbody>\n",
              "</table>\n",
              "</div>\n",
              "      <button class=\"colab-df-convert\" onclick=\"convertToInteractive('df-9aebc934-5701-409a-b219-0671bcc6e20d')\"\n",
              "              title=\"Convert this dataframe to an interactive table.\"\n",
              "              style=\"display:none;\">\n",
              "        \n",
              "  <svg xmlns=\"http://www.w3.org/2000/svg\" height=\"24px\"viewBox=\"0 0 24 24\"\n",
              "       width=\"24px\">\n",
              "    <path d=\"M0 0h24v24H0V0z\" fill=\"none\"/>\n",
              "    <path d=\"M18.56 5.44l.94 2.06.94-2.06 2.06-.94-2.06-.94-.94-2.06-.94 2.06-2.06.94zm-11 1L8.5 8.5l.94-2.06 2.06-.94-2.06-.94L8.5 2.5l-.94 2.06-2.06.94zm10 10l.94 2.06.94-2.06 2.06-.94-2.06-.94-.94-2.06-.94 2.06-2.06.94z\"/><path d=\"M17.41 7.96l-1.37-1.37c-.4-.4-.92-.59-1.43-.59-.52 0-1.04.2-1.43.59L10.3 9.45l-7.72 7.72c-.78.78-.78 2.05 0 2.83L4 21.41c.39.39.9.59 1.41.59.51 0 1.02-.2 1.41-.59l7.78-7.78 2.81-2.81c.8-.78.8-2.07 0-2.86zM5.41 20L4 18.59l7.72-7.72 1.47 1.35L5.41 20z\"/>\n",
              "  </svg>\n",
              "      </button>\n",
              "      \n",
              "  <style>\n",
              "    .colab-df-container {\n",
              "      display:flex;\n",
              "      flex-wrap:wrap;\n",
              "      gap: 12px;\n",
              "    }\n",
              "\n",
              "    .colab-df-convert {\n",
              "      background-color: #E8F0FE;\n",
              "      border: none;\n",
              "      border-radius: 50%;\n",
              "      cursor: pointer;\n",
              "      display: none;\n",
              "      fill: #1967D2;\n",
              "      height: 32px;\n",
              "      padding: 0 0 0 0;\n",
              "      width: 32px;\n",
              "    }\n",
              "\n",
              "    .colab-df-convert:hover {\n",
              "      background-color: #E2EBFA;\n",
              "      box-shadow: 0px 1px 2px rgba(60, 64, 67, 0.3), 0px 1px 3px 1px rgba(60, 64, 67, 0.15);\n",
              "      fill: #174EA6;\n",
              "    }\n",
              "\n",
              "    [theme=dark] .colab-df-convert {\n",
              "      background-color: #3B4455;\n",
              "      fill: #D2E3FC;\n",
              "    }\n",
              "\n",
              "    [theme=dark] .colab-df-convert:hover {\n",
              "      background-color: #434B5C;\n",
              "      box-shadow: 0px 1px 3px 1px rgba(0, 0, 0, 0.15);\n",
              "      filter: drop-shadow(0px 1px 2px rgba(0, 0, 0, 0.3));\n",
              "      fill: #FFFFFF;\n",
              "    }\n",
              "  </style>\n",
              "\n",
              "      <script>\n",
              "        const buttonEl =\n",
              "          document.querySelector('#df-9aebc934-5701-409a-b219-0671bcc6e20d button.colab-df-convert');\n",
              "        buttonEl.style.display =\n",
              "          google.colab.kernel.accessAllowed ? 'block' : 'none';\n",
              "\n",
              "        async function convertToInteractive(key) {\n",
              "          const element = document.querySelector('#df-9aebc934-5701-409a-b219-0671bcc6e20d');\n",
              "          const dataTable =\n",
              "            await google.colab.kernel.invokeFunction('convertToInteractive',\n",
              "                                                     [key], {});\n",
              "          if (!dataTable) return;\n",
              "\n",
              "          const docLinkHtml = 'Like what you see? Visit the ' +\n",
              "            '<a target=\"_blank\" href=https://colab.research.google.com/notebooks/data_table.ipynb>data table notebook</a>'\n",
              "            + ' to learn more about interactive tables.';\n",
              "          element.innerHTML = '';\n",
              "          dataTable['output_type'] = 'display_data';\n",
              "          await google.colab.output.renderOutput(dataTable, element);\n",
              "          const docLink = document.createElement('div');\n",
              "          docLink.innerHTML = docLinkHtml;\n",
              "          element.appendChild(docLink);\n",
              "        }\n",
              "      </script>\n",
              "    </div>\n",
              "  </div>\n",
              "  "
            ]
          },
          "metadata": {},
          "execution_count": 16
        }
      ]
    },
    {
      "cell_type": "markdown",
      "source": [
        "lasso모델이 오차도 적고 R2스코어도 적당하고 높았으므로 최종 모델로 채택"
      ],
      "metadata": {
        "id": "rUgMSsUR3qjc"
      }
    },
    {
      "cell_type": "markdown",
      "source": [
        "이제 특성 해석하고 시각화하자.\n",
        "\n",
        "특성 중요도 같은걸로 어떤 특성이 기록 감소에 영향을 많이 미치는지를 통해서 가설 2를 해결 가능할 것 같다.\n",
        "\n",
        "최적의 하이퍼파라미터도 찾았으므로 이제 전체 데이터에 대해서 학습을 진행하고 특성중요도 등을 파악하자."
      ],
      "metadata": {
        "id": "znFkm7otHTZh"
      }
    },
    {
      "cell_type": "code",
      "source": [
        "X = df.iloc[:,5:]\n",
        "y = df['Time']"
      ],
      "metadata": {
        "id": "Otz3Kd7zKdou"
      },
      "execution_count": 17,
      "outputs": []
    },
    {
      "cell_type": "code",
      "source": [
        "alphas = [0.002, 0.004, 0.006, 0.008, 0.01]\n",
        "\n",
        "lasso_final = LassoCV(alphas=alphas, cv=5, random_state=42)\n",
        "lasso_final.fit(X, y)\n",
        "\n",
        "lasso_final_coef = lasso_final.coef_\n",
        "\n",
        "print(f'alpha: {lasso_final.alpha_}')\n",
        "print(f'cv best score: {lasso_final.score(X, y)}')"
      ],
      "metadata": {
        "id": "RZg2gkYdPFZa",
        "outputId": "d90c1d13-343a-4052-ef77-49579308a3a8",
        "colab": {
          "base_uri": "https://localhost:8080/"
        }
      },
      "execution_count": 18,
      "outputs": [
        {
          "output_type": "stream",
          "name": "stdout",
          "text": [
            "alpha: 0.01\n",
            "cv best score: 0.07375215016616343\n"
          ]
        }
      ]
    },
    {
      "cell_type": "code",
      "source": [
        "# 회귀계수를 확인해보겠습니다. \n",
        "print(f'lasso 회귀계수 최대값 : {lasso_final_coef.max()}\\nlasso 회귀계수 평균 : {lasso_final_coef.mean()}')\n",
        "lasso_final_coef.sort()\n",
        "plt.plot(lasso_final_coef)\n",
        "plt.show()"
      ],
      "metadata": {
        "id": "Dmequr7NPXfj",
        "outputId": "4d812f96-cc96-428b-f768-faa31f193ed6",
        "colab": {
          "base_uri": "https://localhost:8080/",
          "height": 302
        }
      },
      "execution_count": 19,
      "outputs": [
        {
          "output_type": "stream",
          "name": "stdout",
          "text": [
            "lasso 회귀계수 최대값 : 0.037673508902948516\n",
            "lasso 회귀계수 평균 : -0.07159757992245372\n"
          ]
        },
        {
          "output_type": "display_data",
          "data": {
            "text/plain": [
              "<Figure size 432x288 with 1 Axes>"
            ],
            "image/png": "[encoded data removed]"
          },
          "metadata": {
            "needs_background": "light"
          }
        }
      ]
    },
    {
      "cell_type": "code",
      "source": [
        "target_feature = '부스터충전량'\n",
        "isolated = pdp_isolate(\n",
        "    model=lasso_final,\n",
        "    dataset=X,\n",
        "    model_features=X.columns,\n",
        "    feature=target_feature,\n",
        "    grid_type=\"percentile\",  # default = 'percentile', or 'equal'\n",
        "    num_grid_points=10,  # default = 10\n",
        ")\n",
        "pdp_plot(isolated, feature_name='booster charge')"
      ],
      "metadata": {
        "id": "wRh4KZFF2eBp",
        "outputId": "46884c1c-4b1b-4136-89ac-0e3291edd890",
        "colab": {
          "base_uri": "https://localhost:8080/",
          "height": 634
        }
      },
      "execution_count": 33,
      "outputs": [
        {
          "output_type": "execute_result",
          "data": {
            "text/plain": [
              "(<Figure size 1080x684 with 2 Axes>,\n",
              " {'title_ax': <matplotlib.axes._subplots.AxesSubplot at 0x7fa44b5d5390>,\n",
              "  'pdp_ax': <matplotlib.axes._subplots.AxesSubplot at 0x7fa44b583350>})"
            ]
          },
          "metadata": {},
          "execution_count": 33
        },
        {
          "output_type": "display_data",
          "data": {
            "text/plain": [
              "<Figure size 1080x684 with 2 Axes>"
            ],
            "image/png": "[encoded data removed]"
          },
          "metadata": {
            "needs_background": "light"
          }
        }
      ]
    }
  ]
}