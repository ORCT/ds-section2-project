{
  "nbformat": 4,
  "nbformat_minor": 0,
  "metadata": {
    "colab": {
      "provenance": [],
      "authorship_tag": "ABX9TyM8GPpU5ciqsmb0mOed78DX",
      "include_colab_link": true
    },
    "kernelspec": {
      "name": "python3",
      "display_name": "Python 3"
    },
    "language_info": {
      "name": "python"
    }
  },
  "cells": [
    {
      "cell_type": "markdown",
      "metadata": {
        "id": "view-in-github",
        "colab_type": "text"
      },
      "source": [
        "<a href=\"https://colab.research.google.com/github/ORCT/ds-section2-project/blob/main/json_test.ipynb\" target=\"_parent\"><img src=\"https://colab.research.google.com/assets/colab-badge.svg\" alt=\"Open In Colab\"/></a>"
      ]
    },
    {
      "cell_type": "code",
      "execution_count": 1,
      "metadata": {
        "id": "SpUrDFJknPT_"
      },
      "outputs": [],
      "source": [
        "import json"
      ]
    },
    {
      "cell_type": "code",
      "source": [
        "!pip install KartRider"
      ],
      "metadata": {
        "id": "s9fLVWJvvrG5",
        "outputId": "3d908b57-4324-48aa-d75c-44de77b07f85",
        "colab": {
          "base_uri": "https://localhost:8080/"
        }
      },
      "execution_count": 3,
      "outputs": [
        {
          "output_type": "stream",
          "name": "stdout",
          "text": [
            "Looking in indexes: https://pypi.org/simple, https://us-python.pkg.dev/colab-wheels/public/simple/\n",
            "Collecting KartRider\n",
            "  Downloading KartRider-0.6.0-py3-none-any.whl (12 kB)\n",
            "Requirement already satisfied: requests in /usr/local/lib/python3.7/dist-packages (from KartRider) (2.23.0)\n",
            "Requirement already satisfied: certifi>=2017.4.17 in /usr/local/lib/python3.7/dist-packages (from requests->KartRider) (2022.6.15)\n",
            "Requirement already satisfied: idna<3,>=2.5 in /usr/local/lib/python3.7/dist-packages (from requests->KartRider) (2.10)\n",
            "Requirement already satisfied: urllib3!=1.25.0,!=1.25.1,<1.26,>=1.21.1 in /usr/local/lib/python3.7/dist-packages (from requests->KartRider) (1.24.3)\n",
            "Requirement already satisfied: chardet<4,>=3.0.2 in /usr/local/lib/python3.7/dist-packages (from requests->KartRider) (3.0.4)\n",
            "Installing collected packages: KartRider\n",
            "Successfully installed KartRider-0.6.0\n"
          ]
        }
      ]
    },
    {
      "cell_type": "code",
      "source": [
        "import KartRider\n",
        "KartRider.download_meta('./')\n",
        "# OR downmeta_ifnotexist(DOWNLOAD_DIR)\n",
        "KartRider.set_metadatapath('./')"
      ],
      "metadata": {
        "id": "AowUGAHyv3ez"
      },
      "execution_count": 4,
      "outputs": []
    },
    {
      "cell_type": "code",
      "source": [
        "API_KEY = ''\n",
        "nickname = ''"
      ],
      "metadata": {
        "id": "X-90rmhewRkV"
      },
      "execution_count": 9,
      "outputs": []
    },
    {
      "cell_type": "code",
      "source": [
        "api = KartRider.Api(API_KEY)"
      ],
      "metadata": {
        "id": "RU_dCyouwPSO"
      },
      "execution_count": 10,
      "outputs": []
    },
    {
      "cell_type": "code",
      "source": [
        "KartRider.set_metadatapath('./')\n",
        "api = KartRider.Api(API_KEY)\n",
        "\n",
        "matches = api.user(nickname).getMatches(limit=10)\n",
        "\n",
        "games = matches\n",
        "for gametype, match in games.items():\n",
        "\n",
        "    for game in match:\n",
        "        print('게임 : {}, 캐릭터 : {}, 카트 : {}, 맵 : {}, 순위 : {}, 날짜 : {}'\n",
        "            .format(gametype,game.player.character, game.player.kart,\n",
        "                    game.track, game.player.matchrank, game.starttime))\n"
      ],
      "metadata": {
        "id": "P7Z4LGzcwkvW",
        "outputId": "4de2ddc0-8a64-4ff4-933b-33e28033f8cf",
        "colab": {
          "base_uri": "https://localhost:8080/"
        }
      },
      "execution_count": 11,
      "outputs": [
        {
          "output_type": "stream",
          "name": "stdout",
          "text": [
            "게임 : 스피드 팀전, 캐릭터 : 아테나, 카트 : 세이버 V1, 맵 : 메이플 리스항구 언덕길, 순위 : 3, 날짜 : 2022-09-27 06:14:44\n",
            "게임 : 스피드 개인전, 캐릭터 : 아테나, 카트 : 세이버 V1, 맵 : 차이나 라사, 순위 : 1, 날짜 : 2022-09-27 06:11:34\n",
            "게임 : 스피드 개인전, 캐릭터 : 베이비 로두마니, 카트 : 마라톤 V1, 맵 : 빌리지 운하, 순위 : 7, 날짜 : 2022-05-26 12:51:01\n",
            "게임 : 스피드 개인전, 캐릭터 : 베이비 로두마니, 카트 : 마라톤 V1, 맵 : 빌리지 운하, 순위 : 5, 날짜 : 2022-05-26 12:49:07\n",
            "게임 : 스피드 개인전, 캐릭터 : 베이비 로두마니, 카트 : 마라톤 V1, 맵 : 빌리지 운하, 순위 : 4, 날짜 : 2022-05-26 12:47:14\n",
            "게임 : 스피드 개인전, 캐릭터 : 베이비 로두마니, 카트 : 마라톤 V1, 맵 : 빌리지 운하, 순위 : 4, 날짜 : 2022-05-26 12:45:10\n",
            "게임 : 스피드 개인전, 캐릭터 : 베이비 로두마니, 카트 : 마라톤 V1, 맵 : 빌리지 운하, 순위 : 4, 날짜 : 2022-05-26 12:43:17\n",
            "게임 : 스피드 개인전, 캐릭터 : 나린, 카트 : 이온 V1, 맵 : 빌리지 운하, 순위 : 1, 날짜 : 2022-05-06 06:55:58\n",
            "게임 : 스피드 개인전, 캐릭터 : 나린, 카트 : 이온 V1, 맵 : 빌리지 운하, 순위 : 1, 날짜 : 2022-05-06 06:53:55\n",
            "게임 : 스피드 개인전, 캐릭터 : 나린, 카트 : 이온 V1, 맵 : 포레스트 아찔한 다운힐, 순위 : -1, 날짜 : 2022-05-06 06:50:24\n"
          ]
        }
      ]
    },
    {
      "cell_type": "markdown",
      "source": [
        "일단 최근 매치에서 사람들이 제일 많이 달린 맵 5개 정도만 간추려보자\n",
        "\n",
        "매치 데이터를 가급적이면 스피드 개인전으로 하는게 좋지 않을까? 무부는 변수가 너무 많은 거 같은데, 아니면 오히려 무부가 부스터를 못모으는 초브들 입장에서는 데이터가 균일하게 나오려나\n",
        "\n",
        "현 프로들의 매치 데이터는?\n",
        "닉네임을 엄청 자주 바꾸기 때문에 그 부분을 체크하는 것이 힘들지 않을까(userid 태그가 안바뀐다면 그걸로 찾으면 되긴 하겠다만)\n",
        "\n",
        "스피드 개인 채널 매치 데이터 갯수 보니까 250개 기준 무부 : 192, 일반 : 58 매치다. 비율이 거의 4대1"
      ],
      "metadata": {
        "id": "QESxjfPmox0X"
      }
    },
    {
      "cell_type": "code",
      "source": [
        "KartRider.set_metadatapath('./')\n",
        "api = KartRider.Api(API_KEY)\n",
        "\n",
        "allmatches = api.getAllMatches(limit=200, match_types='7b9f0fd5377c38514dbb78ebe63ac6c3b81009d5a31dd569d1cff8f005aa881a')#limit 250은 안되서 200으로 바꿈"
      ],
      "metadata": {
        "id": "7VHcXfYeoxW5"
      },
      "execution_count": 36,
      "outputs": []
    },
    {
      "cell_type": "code",
      "source": [
        "game = list(allmatches.mergevalues())#MatchDetail 오브젝트는 일반적인 프린트로는 그룹바이처럼 출력이 안되니까 각각 메서드 써서 원하는 값을 호출한다음에 넣어야할듯\n",
        "\n",
        "speed_indi = []\n",
        "\n",
        "for i in game:\n",
        "\n",
        "  print(f'게임 : {i.matchtype}, 채널 이름 : {i.channelname}, 트랙 이름 : {i.track}')\n",
        "\n",
        "  if i.channelname == 'speedIndiCombine':\n",
        "    speed_indi.append(i)\n",
        "    print(i)"
      ],
      "metadata": {
        "id": "fkZxUKilsfr_"
      },
      "execution_count": null,
      "outputs": []
    },
    {
      "cell_type": "code",
      "source": [
        "len(speed_indi)"
      ],
      "metadata": {
        "id": "VagimRbkxdwj",
        "outputId": "a302b41b-4a89-4ffa-ac17-3d21d557cd00",
        "colab": {
          "base_uri": "https://localhost:8080/"
        }
      },
      "execution_count": 39,
      "outputs": [
        {
          "output_type": "execute_result",
          "data": {
            "text/plain": [
              "58"
            ]
          },
          "metadata": {},
          "execution_count": 39
        }
      ]
    },
    {
      "cell_type": "code",
      "source": [],
      "metadata": {
        "id": "3gbmeeSm1gvn"
      },
      "execution_count": null,
      "outputs": []
    }
  ]
}