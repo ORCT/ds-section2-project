{
  "nbformat": 4,
  "nbformat_minor": 0,
  "metadata": {
    "colab": {
      "provenance": [],
      "authorship_tag": "ABX9TyNpWykUSAZz2pg/3PcADG1F",
      "include_colab_link": true
    },
    "kernelspec": {
      "name": "python3",
      "display_name": "Python 3"
    },
    "language_info": {
      "name": "python"
    }
  },
  "cells": [
    {
      "cell_type": "markdown",
      "metadata": {
        "id": "view-in-github",
        "colab_type": "text"
      },
      "source": [
        "<a href=\"https://colab.research.google.com/github/ORCT/ds-section2-project/blob/main/json_test.ipynb\" target=\"_parent\"><img src=\"https://colab.research.google.com/assets/colab-badge.svg\" alt=\"Open In Colab\"/></a>"
      ]
    },
    {
      "cell_type": "code",
      "execution_count": null,
      "metadata": {
        "id": "SpUrDFJknPT_"
      },
      "outputs": [],
      "source": [
        "import json"
      ]
    },
    {
      "cell_type": "code",
      "source": [
        "from google.colab import files\n",
        "files.upload();"
      ],
      "metadata": {
        "colab": {
          "base_uri": "https://localhost:8080/",
          "height": 77
        },
        "id": "L4iRqwgjruqC",
        "outputId": "cca18456-3368-46f9-fdcd-170a097291d8"
      },
      "execution_count": null,
      "outputs": [
        {
          "output_type": "display_data",
          "data": {
            "text/plain": [
              "<IPython.core.display.HTML object>"
            ],
            "text/html": [
              "\n",
              "     <input type=\"file\" id=\"files-00bd457b-b416-4f30-93e4-3e8a334ae22a\" name=\"files[]\" multiple disabled\n",
              "        style=\"border:none\" />\n",
              "     <output id=\"result-00bd457b-b416-4f30-93e4-3e8a334ae22a\">\n",
              "      Upload widget is only available when the cell has been executed in the\n",
              "      current browser session. Please rerun this cell to enable.\n",
              "      </output>\n",
              "      <script>// Copyright 2017 Google LLC\n",
              "//\n",
              "// Licensed under the Apache License, Version 2.0 (the \"License\");\n",
              "// you may not use this file except in compliance with the License.\n",
              "// You may obtain a copy of the License at\n",
              "//\n",
              "//      http://www.apache.org/licenses/LICENSE-2.0\n",
              "//\n",
              "// Unless required by applicable law or agreed to in writing, software\n",
              "// distributed under the License is distributed on an \"AS IS\" BASIS,\n",
              "// WITHOUT WARRANTIES OR CONDITIONS OF ANY KIND, either express or implied.\n",
              "// See the License for the specific language governing permissions and\n",
              "// limitations under the License.\n",
              "\n",
              "/**\n",
              " * @fileoverview Helpers for google.colab Python module.\n",
              " */\n",
              "(function(scope) {\n",
              "function span(text, styleAttributes = {}) {\n",
              "  const element = document.createElement('span');\n",
              "  element.textContent = text;\n",
              "  for (const key of Object.keys(styleAttributes)) {\n",
              "    element.style[key] = styleAttributes[key];\n",
              "  }\n",
              "  return element;\n",
              "}\n",
              "\n",
              "// Max number of bytes which will be uploaded at a time.\n",
              "const MAX_PAYLOAD_SIZE = 100 * 1024;\n",
              "\n",
              "function _uploadFiles(inputId, outputId) {\n",
              "  const steps = uploadFilesStep(inputId, outputId);\n",
              "  const outputElement = document.getElementById(outputId);\n",
              "  // Cache steps on the outputElement to make it available for the next call\n",
              "  // to uploadFilesContinue from Python.\n",
              "  outputElement.steps = steps;\n",
              "\n",
              "  return _uploadFilesContinue(outputId);\n",
              "}\n",
              "\n",
              "// This is roughly an async generator (not supported in the browser yet),\n",
              "// where there are multiple asynchronous steps and the Python side is going\n",
              "// to poll for completion of each step.\n",
              "// This uses a Promise to block the python side on completion of each step,\n",
              "// then passes the result of the previous step as the input to the next step.\n",
              "function _uploadFilesContinue(outputId) {\n",
              "  const outputElement = document.getElementById(outputId);\n",
              "  const steps = outputElement.steps;\n",
              "\n",
              "  const next = steps.next(outputElement.lastPromiseValue);\n",
              "  return Promise.resolve(next.value.promise).then((value) => {\n",
              "    // Cache the last promise value to make it available to the next\n",
              "    // step of the generator.\n",
              "    outputElement.lastPromiseValue = value;\n",
              "    return next.value.response;\n",
              "  });\n",
              "}\n",
              "\n",
              "/**\n",
              " * Generator function which is called between each async step of the upload\n",
              " * process.\n",
              " * @param {string} inputId Element ID of the input file picker element.\n",
              " * @param {string} outputId Element ID of the output display.\n",
              " * @return {!Iterable<!Object>} Iterable of next steps.\n",
              " */\n",
              "function* uploadFilesStep(inputId, outputId) {\n",
              "  const inputElement = document.getElementById(inputId);\n",
              "  inputElement.disabled = false;\n",
              "\n",
              "  const outputElement = document.getElementById(outputId);\n",
              "  outputElement.innerHTML = '';\n",
              "\n",
              "  const pickedPromise = new Promise((resolve) => {\n",
              "    inputElement.addEventListener('change', (e) => {\n",
              "      resolve(e.target.files);\n",
              "    });\n",
              "  });\n",
              "\n",
              "  const cancel = document.createElement('button');\n",
              "  inputElement.parentElement.appendChild(cancel);\n",
              "  cancel.textContent = 'Cancel upload';\n",
              "  const cancelPromise = new Promise((resolve) => {\n",
              "    cancel.onclick = () => {\n",
              "      resolve(null);\n",
              "    };\n",
              "  });\n",
              "\n",
              "  // Wait for the user to pick the files.\n",
              "  const files = yield {\n",
              "    promise: Promise.race([pickedPromise, cancelPromise]),\n",
              "    response: {\n",
              "      action: 'starting',\n",
              "    }\n",
              "  };\n",
              "\n",
              "  cancel.remove();\n",
              "\n",
              "  // Disable the input element since further picks are not allowed.\n",
              "  inputElement.disabled = true;\n",
              "\n",
              "  if (!files) {\n",
              "    return {\n",
              "      response: {\n",
              "        action: 'complete',\n",
              "      }\n",
              "    };\n",
              "  }\n",
              "\n",
              "  for (const file of files) {\n",
              "    const li = document.createElement('li');\n",
              "    li.append(span(file.name, {fontWeight: 'bold'}));\n",
              "    li.append(span(\n",
              "        `(${file.type || 'n/a'}) - ${file.size} bytes, ` +\n",
              "        `last modified: ${\n",
              "            file.lastModifiedDate ? file.lastModifiedDate.toLocaleDateString() :\n",
              "                                    'n/a'} - `));\n",
              "    const percent = span('0% done');\n",
              "    li.appendChild(percent);\n",
              "\n",
              "    outputElement.appendChild(li);\n",
              "\n",
              "    const fileDataPromise = new Promise((resolve) => {\n",
              "      const reader = new FileReader();\n",
              "      reader.onload = (e) => {\n",
              "        resolve(e.target.result);\n",
              "      };\n",
              "      reader.readAsArrayBuffer(file);\n",
              "    });\n",
              "    // Wait for the data to be ready.\n",
              "    let fileData = yield {\n",
              "      promise: fileDataPromise,\n",
              "      response: {\n",
              "        action: 'continue',\n",
              "      }\n",
              "    };\n",
              "\n",
              "    // Use a chunked sending to avoid message size limits. See b/62115660.\n",
              "    let position = 0;\n",
              "    do {\n",
              "      const length = Math.min(fileData.byteLength - position, MAX_PAYLOAD_SIZE);\n",
              "      const chunk = new Uint8Array(fileData, position, length);\n",
              "      position += length;\n",
              "\n",
              "      const base64 = btoa(String.fromCharCode.apply(null, chunk));\n",
              "      yield {\n",
              "        response: {\n",
              "          action: 'append',\n",
              "          file: file.name,\n",
              "          data: base64,\n",
              "        },\n",
              "      };\n",
              "\n",
              "      let percentDone = fileData.byteLength === 0 ?\n",
              "          100 :\n",
              "          Math.round((position / fileData.byteLength) * 100);\n",
              "      percent.textContent = `${percentDone}% done`;\n",
              "\n",
              "    } while (position < fileData.byteLength);\n",
              "  }\n",
              "\n",
              "  // All done.\n",
              "  yield {\n",
              "    response: {\n",
              "      action: 'complete',\n",
              "    }\n",
              "  };\n",
              "}\n",
              "\n",
              "scope.google = scope.google || {};\n",
              "scope.google.colab = scope.google.colab || {};\n",
              "scope.google.colab._files = {\n",
              "  _uploadFiles,\n",
              "  _uploadFilesContinue,\n",
              "};\n",
              "})(self);\n",
              "</script> "
            ]
          },
          "metadata": {}
        },
        {
          "output_type": "stream",
          "name": "stdout",
          "text": [
            "Saving kart.json to kart.json\n"
          ]
        }
      ]
    },
    {
      "cell_type": "code",
      "source": [
        "# json_object = json.loads('kart.json')\n",
        "file_name = 'kart.json' #한줄짜리파일임\n",
        "with open(file_name, 'r', encoding='utf-8') as f:\n",
        "  data = json.load(f)\n",
        "  print(data)\n",
        "# json_object"
      ],
      "metadata": {
        "id": "p1l3lHE7r8Un"
      },
      "execution_count": null,
      "outputs": []
    },
    {
      "cell_type": "code",
      "source": [
        "!pip install KartRider"
      ],
      "metadata": {
        "id": "s9fLVWJvvrG5",
        "outputId": "730292c2-58ac-4806-e6dc-1bae5747e897",
        "colab": {
          "base_uri": "https://localhost:8080/"
        }
      },
      "execution_count": 1,
      "outputs": [
        {
          "output_type": "stream",
          "name": "stdout",
          "text": [
            "Looking in indexes: https://pypi.org/simple, https://us-python.pkg.dev/colab-wheels/public/simple/\n",
            "Requirement already satisfied: KartRider in /usr/local/lib/python3.7/dist-packages (0.6.0)\n",
            "Requirement already satisfied: requests in /usr/local/lib/python3.7/dist-packages (from KartRider) (2.23.0)\n",
            "Requirement already satisfied: urllib3!=1.25.0,!=1.25.1,<1.26,>=1.21.1 in /usr/local/lib/python3.7/dist-packages (from requests->KartRider) (1.24.3)\n",
            "Requirement already satisfied: chardet<4,>=3.0.2 in /usr/local/lib/python3.7/dist-packages (from requests->KartRider) (3.0.4)\n",
            "Requirement already satisfied: idna<3,>=2.5 in /usr/local/lib/python3.7/dist-packages (from requests->KartRider) (2.10)\n",
            "Requirement already satisfied: certifi>=2017.4.17 in /usr/local/lib/python3.7/dist-packages (from requests->KartRider) (2022.6.15)\n"
          ]
        }
      ]
    },
    {
      "cell_type": "code",
      "source": [
        "import KartRider\n",
        "KartRider.download_meta('./')\n",
        "# OR downmeta_ifnotexist(DOWNLOAD_DIR)\n",
        "KartRider.set_metadatapath('./')"
      ],
      "metadata": {
        "id": "AowUGAHyv3ez"
      },
      "execution_count": 2,
      "outputs": []
    },
    {
      "cell_type": "code",
      "source": [
        "API_KEY = ''"
      ],
      "metadata": {
        "id": "X-90rmhewRkV"
      },
      "execution_count": 3,
      "outputs": []
    },
    {
      "cell_type": "code",
      "source": [
        "api = KartRider.Api(API_KEY)"
      ],
      "metadata": {
        "id": "RU_dCyouwPSO"
      },
      "execution_count": 4,
      "outputs": []
    },
    {
      "cell_type": "code",
      "source": [
        "import KartRider\n",
        "\n",
        "KartRider.set_metadatapath('./')\n",
        "api = KartRider.Api(API_KEY)\n",
        "\n",
        "nickname = ''\n",
        "\n",
        "matches = api.user(nickname).getMatches(limit=10)\n",
        "\n",
        "games = matches\n",
        "for gametype, match in games.items():\n",
        "\n",
        "    for game in match:\n",
        "        print('게임 : {}, 캐릭터 : {}, 카트 : {}, 맵 : {}, 순위 : {}, 날짜 : {}'\n",
        "            .format(gametype,game.player.character, game.player.kart,\n",
        "                    game.track, game.player.matchrank, game.starttime))\n"
      ],
      "metadata": {
        "id": "P7Z4LGzcwkvW",
        "outputId": "9d6d9f2f-8249-4af4-cc5b-34342532ddef",
        "colab": {
          "base_uri": "https://localhost:8080/"
        }
      },
      "execution_count": 7,
      "outputs": [
        {
          "output_type": "stream",
          "name": "stdout",
          "text": [
            "게임 : 스피드 팀전, 캐릭터 : 디지니, 카트 : BLADES V1 W4, 맵 : 비치 해변 드라이브, 순위 : 2, 날짜 : 2022-09-26 14:16:29\n",
            "게임 : 스피드 팀전, 캐릭터 : 디지니, 카트 : Unknown, 맵 : 도검 구름의 협곡, 순위 : 2, 날짜 : 2022-09-26 14:13:17\n",
            "게임 : 스피드 팀전, 캐릭터 : 디지니, 카트 : Unknown, 맵 : 마비노기 이멘 마하, 순위 : -1, 날짜 : 2022-09-26 14:10:46\n",
            "게임 : 스피드 팀전, 캐릭터 : 디지니, 카트 : Unknown, 맵 : 메이플 헤네시스 공원, 순위 : 1, 날짜 : 2022-09-26 14:08:17\n",
            "게임 : 스피드 팀전, 캐릭터 : 디지니, 카트 : Unknown, 맵 : 빌리지 운명의 다리, 순위 : 1, 날짜 : 2022-09-26 14:05:03\n",
            "게임 : 스피드 팀전, 캐릭터 : 디지니, 카트 : Unknown, 맵 : 빌리지 고가의 질주, 순위 : 2, 날짜 : 2022-09-26 14:02:29\n",
            "게임 : 스피드 팀전, 캐릭터 : 디지니, 카트 : 스펙터 V1, 맵 : 차이나 용의 운하, 순위 : 6, 날짜 : 2022-09-26 13:56:14\n",
            "게임 : 스피드 팀전, 캐릭터 : 디지니, 카트 : Unknown, 맵 : 메카닉 잊혀진 도시의 중심부, 순위 : 5, 날짜 : 2022-09-26 13:48:40\n",
            "게임 : 스피드 팀전, 캐릭터 : 디지니, 카트 : 스펙터 V1, 맵 : 비치 해변 드라이브, 순위 : 6, 날짜 : 2022-09-26 13:45:36\n",
            "게임 : 스피드 팀전, 캐릭터 : 디지니, 카트 : 스펙터 V1, 맵 : 브로디 비밀의 연구소, 순위 : 6, 날짜 : 2022-09-26 13:40:19\n"
          ]
        }
      ]
    },
    {
      "cell_type": "code",
      "source": [
        "import KartRider\n",
        "\n",
        "KartRider.set_metadatapath('./')\n",
        "api = KartRider.Api(API_KEY)\n",
        "\n",
        "allmatches = api.getAllMatches(limit=1)\n",
        "\n",
        "game = list(allmatches.mergevalues())[0]\n",
        "\n",
        "print('게임 : {}, 채널 이름 : {}, 트랙 이름 : {}'\n",
        "    .format(game.matchtype, game.channelname, game.track))\n",
        "\n",
        "if game.isteamgame:\n",
        "    i = 0\n",
        "    for players in game.teams:\n",
        "        print('{}팀 :'.format(i))\n",
        "        for player in players:\n",
        "            print('닉네임 : {}, 캐릭터 : {}, 카트 : {}, 순위 : {}, 리타이어 여부 : {}'\n",
        "                .format(player.charactername, player.character, player.kart,\n",
        "                        player.matchrank, player.matchretired))\n",
        "        i += 1\n",
        "\n",
        "else:\n",
        "    for player in game.players:\n",
        "            print('닉네임 : {}, 캐릭터 : {}, 카트 : {}, 순위 : {}, 리타이어 여부 : {}'\n",
        "                .format(player.charactername, player.character, player.kart,\n",
        "                        player.matchrank, player.matchretired))"
      ],
      "metadata": {
        "id": "GrIp_x1Nwzez",
        "outputId": "f5e4850a-60f1-4bfa-fa84-6da08719277e",
        "colab": {
          "base_uri": "https://localhost:8080/"
        }
      },
      "execution_count": 18,
      "outputs": [
        {
          "output_type": "stream",
          "name": "stdout",
          "text": [
            "게임 : 스피드 개인전, 채널 이름 : speedIndiInfinit, 트랙 이름 : 노르테유 허공의 갈림길\n",
            "닉네임 : 이정사랑은왜, 캐릭터 : 베이비 배찌, 카트 : Unknown, 순위 : 1, 리타이어 여부 : False\n"
          ]
        }
      ]
    }
  ]
}